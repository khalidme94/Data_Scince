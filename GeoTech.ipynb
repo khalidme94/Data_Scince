{
  "nbformat": 4,
  "nbformat_minor": 0,
  "metadata": {
    "colab": {
      "name": "GeoTech.ipynb",
      "provenance": [],
      "mount_file_id": "1SeNEauT57AaWRF8yTwwrvekXUSYaZy4O",
      "authorship_tag": "ABX9TyMr10hF4iOJ2AQwCvasNO3i",
      "include_colab_link": true
    },
    "kernelspec": {
      "name": "python3",
      "display_name": "Python 3"
    },
    "language_info": {
      "name": "python"
    }
  },
  "cells": [
    {
      "cell_type": "markdown",
      "metadata": {
        "id": "view-in-github",
        "colab_type": "text"
      },
      "source": [
        "<a href=\"https://colab.research.google.com/github/khalidme94/Data_Scince/blob/master/GeoTech.ipynb\" target=\"_parent\"><img src=\"https://colab.research.google.com/assets/colab-badge.svg\" alt=\"Open In Colab\"/></a>"
      ]
    },
    {
      "cell_type": "markdown",
      "metadata": {
        "id": "MmBeJ0f2djtF"
      },
      "source": [
        "**GeoTech Employmen Excercise**\n",
        "\n",
        "In this excercise I will analyze the most important two columns that can give a valuable recommendation.\n",
        "\n",
        "My approch to accomplish objective is to put myself in the managers place and think as they think to foucus only on most important parameters, which can improve the business.\n",
        "\n",
        "--------------------------------------------\n",
        "**Coding Explaining**\n",
        "\n",
        "First I import the needed libraries"
      ]
    },
    {
      "cell_type": "code",
      "metadata": {
        "id": "MXGqOWQ4Y5OY"
      },
      "source": [
        "import pandas as pd\n",
        "import matplotlib.pyplot as plt\n",
        "import seaborn as sns"
      ],
      "execution_count": 7,
      "outputs": []
    },
    {
      "cell_type": "markdown",
      "metadata": {
        "id": "Qjham3HVfMDC"
      },
      "source": [
        "Second, I import the data"
      ]
    },
    {
      "cell_type": "code",
      "metadata": {
        "id": "5HBuK9h9bz1J"
      },
      "source": [
        "customers=pd.read_csv(r'/content/drive/MyDrive/GeoTech/customers.csv')"
      ],
      "execution_count": 8,
      "outputs": []
    },
    {
      "cell_type": "markdown",
      "metadata": {
        "id": "iwJdr5ukfVlB"
      },
      "source": [
        "Now I explore the dataset"
      ]
    },
    {
      "cell_type": "code",
      "metadata": {
        "colab": {
          "base_uri": "https://localhost:8080/",
          "height": 748
        },
        "id": "XQNjpzMacCw-",
        "outputId": "4700a812-d757-4b9f-c633-e25bb738d388"
      },
      "source": [
        "customers.head(10)"
      ],
      "execution_count": 3,
      "outputs": [
        {
          "output_type": "execute_result",
          "data": {
            "text/html": [
              "<div>\n",
              "<style scoped>\n",
              "    .dataframe tbody tr th:only-of-type {\n",
              "        vertical-align: middle;\n",
              "    }\n",
              "\n",
              "    .dataframe tbody tr th {\n",
              "        vertical-align: top;\n",
              "    }\n",
              "\n",
              "    .dataframe thead th {\n",
              "        text-align: right;\n",
              "    }\n",
              "</style>\n",
              "<table border=\"1\" class=\"dataframe\">\n",
              "  <thead>\n",
              "    <tr style=\"text-align: right;\">\n",
              "      <th></th>\n",
              "      <th>Unnamed: 0</th>\n",
              "      <th>PYID</th>\n",
              "      <th>INTERACTIONTYPE</th>\n",
              "      <th>PRIORITY</th>\n",
              "      <th>PXCREATEDATETIME</th>\n",
              "      <th>PYSLAGOAL</th>\n",
              "      <th>PYSLADEADLINE</th>\n",
              "      <th>TREATMENTCLOSEDDATE</th>\n",
              "      <th>PYRESOLVEDTIMESTAMP</th>\n",
              "      <th>SLATRACK</th>\n",
              "      <th>PYSTATUSWORK</th>\n",
              "      <th>LATITUDE</th>\n",
              "      <th>LONGITUDE</th>\n",
              "      <th>INCIDENTSTATUS</th>\n",
              "      <th>CLOSUREREASON</th>\n",
              "      <th>ISSUEDESCRIPTION</th>\n",
              "      <th>DEPARTMENT</th>\n",
              "      <th>MAINCLASSIFICATION</th>\n",
              "      <th>SUBCLASSIFICATION</th>\n",
              "      <th>SATISFACTION</th>\n",
              "    </tr>\n",
              "  </thead>\n",
              "  <tbody>\n",
              "    <tr>\n",
              "      <th>0</th>\n",
              "      <td>0</td>\n",
              "      <td>INC-20-08-000048</td>\n",
              "      <td>Call</td>\n",
              "      <td>عالي</td>\n",
              "      <td>25-NOV-19 11.45.17.030000000 AM</td>\n",
              "      <td>25-NOV-19 01.45.17.030000000 PM</td>\n",
              "      <td>29-NOV-19 11.45.17.030000000 AM</td>\n",
              "      <td>27-NOV-19 08.41.19.857000000 PM</td>\n",
              "      <td>27-NOV-19 08.41.19.857000000 PM</td>\n",
              "      <td>Delayed</td>\n",
              "      <td>Resolved-Completed</td>\n",
              "      <td>24.440833</td>\n",
              "      <td>39.616819</td>\n",
              "      <td>تمت معالجة البلاغ بشكل نهائي</td>\n",
              "      <td>لا تخص التنسيق</td>\n",
              "      <td>يفيد المبلغ بوجود حفريات بدون وضع لوحات ووسائل...</td>\n",
              "      <td>وكالة الجودة أمانة المدينة المنورة</td>\n",
              "      <td>الطرق والأرصفة</td>\n",
              "      <td>الحفريات</td>\n",
              "      <td>8</td>\n",
              "    </tr>\n",
              "    <tr>\n",
              "      <th>1</th>\n",
              "      <td>1</td>\n",
              "      <td>INC-20-08-000050</td>\n",
              "      <td>Call</td>\n",
              "      <td>عالي</td>\n",
              "      <td>27-NOV-19 08.30.54.047000000 PM</td>\n",
              "      <td>27-NOV-19 10.30.54.047000000 PM</td>\n",
              "      <td>01-DEC-19 08.30.54.047000000 PM</td>\n",
              "      <td>27-NOV-19 08.56.06.580000000 PM</td>\n",
              "      <td>27-NOV-19 08.56.06.580000000 PM</td>\n",
              "      <td>Not Delayed</td>\n",
              "      <td>Resolved-Completed</td>\n",
              "      <td>23.813656</td>\n",
              "      <td>38.845296</td>\n",
              "      <td>تمت معالجة البلاغ بشكل نهائي</td>\n",
              "      <td>تم التواصل مع الرقم المسجل في ا+</td>\n",
              "      <td>تفيد المواطن بانها تطلب مكافحة الكلاب العقوره</td>\n",
              "      <td>إدارة الخدمات بلدية بدر</td>\n",
              "      <td>الحيوانات والحشرات</td>\n",
              "      <td>مكافحة الآفات والحشرات و الحيوانات السائبة</td>\n",
              "      <td>4</td>\n",
              "    </tr>\n",
              "    <tr>\n",
              "      <th>2</th>\n",
              "      <td>2</td>\n",
              "      <td>INC-20-08-000051</td>\n",
              "      <td>Call</td>\n",
              "      <td>متوسط</td>\n",
              "      <td>20-NOV-19 10.50.35.837000000 AM</td>\n",
              "      <td>20-NOV-19 04.50.35.837000000 PM</td>\n",
              "      <td>24-NOV-19 10.50.35.837000000 AM</td>\n",
              "      <td>27-NOV-19 09.03.24.877000000 PM</td>\n",
              "      <td>27-NOV-19 09.03.24.877000000 PM</td>\n",
              "      <td>Delayed</td>\n",
              "      <td>Resolved-Completed</td>\n",
              "      <td>24.444566</td>\n",
              "      <td>39.650385</td>\n",
              "      <td>تمت معالجة البلاغ بشكل نهائي</td>\n",
              "      <td>تم التواصل مع المواطن والانتهاء+</td>\n",
              "      <td>وضح المواطن بوجود بلاغ سابق بنظام امانة المدين...</td>\n",
              "      <td>إدارة الخدمات بلدية العوالي</td>\n",
              "      <td>النظافة</td>\n",
              "      <td>حاويات النفايات</td>\n",
              "      <td>3</td>\n",
              "    </tr>\n",
              "    <tr>\n",
              "      <th>3</th>\n",
              "      <td>3</td>\n",
              "      <td>INC-20-08-000052</td>\n",
              "      <td>Social Media</td>\n",
              "      <td>عالي</td>\n",
              "      <td>27-NOV-19 07.55.25.183000000 PM</td>\n",
              "      <td>27-NOV-19 09.55.25.183000000 PM</td>\n",
              "      <td>01-DEC-19 07.55.25.183000000 PM</td>\n",
              "      <td>27-NOV-19 09.09.34.623000000 PM</td>\n",
              "      <td>27-NOV-19 09.09.34.623000000 PM</td>\n",
              "      <td>Not Delayed</td>\n",
              "      <td>Resolved-Completed</td>\n",
              "      <td>24.427324</td>\n",
              "      <td>39.584394</td>\n",
              "      <td>تمت معالجة البلاغ بشكل نهائي</td>\n",
              "      <td>الموقع تابع الى وكالة المشاريع +</td>\n",
              "      <td>لسلام عليكم ورحمة الله وبركاته أخر بلاغ برقم /...</td>\n",
              "      <td>وكالة الجودة أمانة المدينة المنورة</td>\n",
              "      <td>الطرق والأرصفة</td>\n",
              "      <td>الحفريات</td>\n",
              "      <td>3</td>\n",
              "    </tr>\n",
              "    <tr>\n",
              "      <th>4</th>\n",
              "      <td>4</td>\n",
              "      <td>INC-20-08-000027</td>\n",
              "      <td>Call</td>\n",
              "      <td>متوسط</td>\n",
              "      <td>25-NOV-19 03.09.51.670000000 PM</td>\n",
              "      <td>25-NOV-19 09.09.51.670000000 PM</td>\n",
              "      <td>29-NOV-19 03.09.51.670000000 PM</td>\n",
              "      <td>26-NOV-19 10.11.33.010000000 AM</td>\n",
              "      <td>26-NOV-19 10.11.33.010000000 AM</td>\n",
              "      <td>Not Delayed</td>\n",
              "      <td>Resolved-Completed</td>\n",
              "      <td>24.862532</td>\n",
              "      <td>40.494209</td>\n",
              "      <td>تمت معالجة البلاغ بشكل نهائي</td>\n",
              "      <td>تم التأكد من سعر الحليب بجميع ا+</td>\n",
              "      <td>مخالفة سعر بيع  _x000D_\\n_x000D_\\n_x000D_\\nصيد...</td>\n",
              "      <td>إدارة الخدمات بلدية الحناكية</td>\n",
              "      <td>الأسواق والمتاجر</td>\n",
              "      <td>مخالفات المحلات و الأسواق</td>\n",
              "      <td>2</td>\n",
              "    </tr>\n",
              "    <tr>\n",
              "      <th>5</th>\n",
              "      <td>5</td>\n",
              "      <td>INC-20-08-000037</td>\n",
              "      <td>Call</td>\n",
              "      <td>عالي</td>\n",
              "      <td>25-NOV-19 08.37.29.450000000 AM</td>\n",
              "      <td>25-NOV-19 10.37.29.450000000 AM</td>\n",
              "      <td>29-NOV-19 08.37.29.450000000 AM</td>\n",
              "      <td>27-NOV-19 08.28.44.750000000 PM</td>\n",
              "      <td>27-NOV-19 08.28.44.750000000 PM</td>\n",
              "      <td>Delayed</td>\n",
              "      <td>Resolved-Completed</td>\n",
              "      <td>24.427982</td>\n",
              "      <td>39.495306</td>\n",
              "      <td>تمت معالجة البلاغ بشكل نهائي</td>\n",
              "      <td>تم تسليم الموقع للمقاول</td>\n",
              "      <td>تم الحفر لتركيب اعمدة الانارة ثم تم ترك الحفر ...</td>\n",
              "      <td>وكالة الجودة أمانة المدينة المنورة</td>\n",
              "      <td>الطرق والأرصفة</td>\n",
              "      <td>الحفريات</td>\n",
              "      <td>6</td>\n",
              "    </tr>\n",
              "    <tr>\n",
              "      <th>6</th>\n",
              "      <td>6</td>\n",
              "      <td>INC-20-08-000042</td>\n",
              "      <td>Call</td>\n",
              "      <td>عالي</td>\n",
              "      <td>26-NOV-19 08.07.01.270000000 AM</td>\n",
              "      <td>26-NOV-19 10.07.01.270000000 AM</td>\n",
              "      <td>30-NOV-19 08.07.01.270000000 AM</td>\n",
              "      <td>27-NOV-19 08.38.02.203000000 PM</td>\n",
              "      <td>27-NOV-19 08.38.02.203000000 PM</td>\n",
              "      <td>Delayed</td>\n",
              "      <td>Resolved-Completed</td>\n",
              "      <td>24.450264</td>\n",
              "      <td>39.595804</td>\n",
              "      <td>تمت معالجة البلاغ بشكل نهائي</td>\n",
              "      <td>تم الوقوف على الموقع ، حفرية كه+</td>\n",
              "      <td>يفيد المبلغ انه لم يتم اغلاق الحفرية بعد الانت...</td>\n",
              "      <td>وكالة الجودة أمانة المدينة المنورة</td>\n",
              "      <td>الطرق والأرصفة</td>\n",
              "      <td>الحفريات</td>\n",
              "      <td>2</td>\n",
              "    </tr>\n",
              "    <tr>\n",
              "      <th>7</th>\n",
              "      <td>7</td>\n",
              "      <td>INC-20-08-000046</td>\n",
              "      <td>Call</td>\n",
              "      <td>عالي</td>\n",
              "      <td>25-NOV-19 11.15.39.230000000 AM</td>\n",
              "      <td>25-NOV-19 01.15.39.230000000 PM</td>\n",
              "      <td>29-NOV-19 11.15.39.230000000 AM</td>\n",
              "      <td>27-NOV-19 08.38.18.670000000 PM</td>\n",
              "      <td>27-NOV-19 08.38.18.670000000 PM</td>\n",
              "      <td>Delayed</td>\n",
              "      <td>Resolved-Completed</td>\n",
              "      <td>24.477221</td>\n",
              "      <td>39.694326</td>\n",
              "      <td>تمت معالجة البلاغ بشكل نهائي</td>\n",
              "      <td>تم انهاء الملاحضة</td>\n",
              "      <td>اغلاق مداخل المنازل</td>\n",
              "      <td>وكالة الجودة أمانة المدينة المنورة</td>\n",
              "      <td>المباني والتعديات</td>\n",
              "      <td>تعدي على ممتلكات خاصة او حكومية</td>\n",
              "      <td>7</td>\n",
              "    </tr>\n",
              "    <tr>\n",
              "      <th>8</th>\n",
              "      <td>8</td>\n",
              "      <td>INC-20-08-000035</td>\n",
              "      <td>Call</td>\n",
              "      <td>عالي</td>\n",
              "      <td>26-NOV-19 08.47.06.700000000 PM</td>\n",
              "      <td>26-NOV-19 10.47.06.700000000 PM</td>\n",
              "      <td>30-NOV-19 08.47.06.700000000 PM</td>\n",
              "      <td>27-NOV-19 11.04.33.800000000 AM</td>\n",
              "      <td>27-NOV-19 11.04.33.800000000 AM</td>\n",
              "      <td>Delayed</td>\n",
              "      <td>Resolved-Completed</td>\n",
              "      <td>24.510008</td>\n",
              "      <td>39.719809</td>\n",
              "      <td>تمت معالجة البلاغ بشكل نهائي</td>\n",
              "      <td>تم الوقوف ع البلاغ وتلاحظ وجود +</td>\n",
              "      <td>يفيد المواطن بوجود ملحمة تبيع لحم مجهول ولا يب...</td>\n",
              "      <td>إدارة الخدمات بلدية العاقول</td>\n",
              "      <td>الأسواق والمتاجر</td>\n",
              "      <td>مخالفات المطاعم ومحلات المواد الغذائية</td>\n",
              "      <td>0</td>\n",
              "    </tr>\n",
              "    <tr>\n",
              "      <th>9</th>\n",
              "      <td>9</td>\n",
              "      <td>INC-20-08-000038</td>\n",
              "      <td>Call</td>\n",
              "      <td>عالي</td>\n",
              "      <td>27-NOV-19 07.32.37.000000000 PM</td>\n",
              "      <td>27-NOV-19 09.32.37.000000000 PM</td>\n",
              "      <td>01-DEC-19 07.32.37.000000000 PM</td>\n",
              "      <td>30-NOV-19 05.23.22.550000000 PM</td>\n",
              "      <td>30-NOV-19 05.23.22.550000000 PM</td>\n",
              "      <td>Delayed</td>\n",
              "      <td>Resolved-Completed</td>\n",
              "      <td>24.508178</td>\n",
              "      <td>39.707948</td>\n",
              "      <td>تمت معالجة البلاغ بشكل نهائي</td>\n",
              "      <td>تم رفع الحاويه حسب الصوره المرف+</td>\n",
              "      <td>يفيد المواطن بتاخر في تفريغ حاويه النفايات</td>\n",
              "      <td>إدارة الخدمات بلدية العاقول</td>\n",
              "      <td>النظافة</td>\n",
              "      <td>حاويات النفايات</td>\n",
              "      <td>0</td>\n",
              "    </tr>\n",
              "  </tbody>\n",
              "</table>\n",
              "</div>"
            ],
            "text/plain": [
              "   Unnamed: 0  ... SATISFACTION\n",
              "0           0  ...            8\n",
              "1           1  ...            4\n",
              "2           2  ...            3\n",
              "3           3  ...            3\n",
              "4           4  ...            2\n",
              "5           5  ...            6\n",
              "6           6  ...            2\n",
              "7           7  ...            7\n",
              "8           8  ...            0\n",
              "9           9  ...            0\n",
              "\n",
              "[10 rows x 20 columns]"
            ]
          },
          "metadata": {},
          "execution_count": 3
        }
      ]
    },
    {
      "cell_type": "markdown",
      "metadata": {
        "id": "faHG8beMfjTY"
      },
      "source": [
        "I decided to choose three parameters:\n",
        "\n",
        "1.   Department\n",
        "2.   MainClassification\n",
        "3.   Satisfaction\n",
        "\n",
        "I expect these will give me mesurements of important indicators:\n",
        "\n",
        "\n",
        "*   Each department performance: Weaknesses and straighnths\n",
        "*   Most main classification that slowdown the business\n",
        "*   Customers satisfaction of the results\n",
        "\n",
        "\n",
        "\n",
        "\n"
      ]
    },
    {
      "cell_type": "markdown",
      "metadata": {
        "id": "z8e-oe-flhYD"
      },
      "source": [
        "Now I Explore main classifications of complaints , so it will give an idea of complaints categories"
      ]
    },
    {
      "cell_type": "code",
      "metadata": {
        "colab": {
          "base_uri": "https://localhost:8080/",
          "height": 505
        },
        "id": "1qlW5_F6cjvV",
        "outputId": "b5ec8191-bdf4-4dc1-853a-659e82d0256e"
      },
      "source": [
        "plt.figure(figsize=(20,8))\n",
        "sns.barplot(x=customers['MAINCLASSIFICATION'].value_counts().index,y=customers['MAINCLASSIFICATION'].value_counts())\n"
      ],
      "execution_count": 27,
      "outputs": [
        {
          "output_type": "execute_result",
          "data": {
            "text/plain": [
              "<matplotlib.axes._subplots.AxesSubplot at 0x7f8cb1b2b510>"
            ]
          },
          "metadata": {},
          "execution_count": 27
        },
        {
          "output_type": "display_data",
          "data": {
            "image/png": "[encoded data removed]",
            "text/plain": [
              "<Figure size 1440x576 with 1 Axes>"
            ]
          },
          "metadata": {
            "needs_background": "light"
          }
        }
      ]
    },
    {
      "cell_type": "code",
      "metadata": {
        "colab": {
          "base_uri": "https://localhost:8080/"
        },
        "id": "ycIJ9jFXdDtF",
        "outputId": "266eecdd-d65f-4471-89bc-cb8953d95433"
      },
      "source": [
        "customers['MAINCLASSIFICATION'].value_counts()"
      ],
      "execution_count": 28,
      "outputs": [
        {
          "output_type": "execute_result",
          "data": {
            "text/plain": [
              "الأسواق والمتاجر              4568\n",
              "الإنارة واللوحات الإرشادية    3715\n",
              "النظافة                       3282\n",
              "الحيوانات والحشرات            2733\n",
              "المباني والتعديات             1784\n",
              "الطرق والأرصفة                1775\n",
              "بلاغات وباء كورونا             965\n",
              "الكوارث والسيول                661\n",
              "الحدائق والمرافق العامة        503\n",
              "جهات شريكة                       8\n",
              "إكرام الموتى                     6\n",
              "Name: MAINCLASSIFICATION, dtype: int64"
            ]
          },
          "metadata": {},
          "execution_count": 28
        }
      ]
    },
    {
      "cell_type": "markdown",
      "metadata": {
        "id": "Dc9lxpPjpql7"
      },
      "source": [
        "As seen in the above analysis, we have 11 category of  complaints main classifications.\n",
        "\n",
        "Now I will measure the customer satisfaction of each category to know which one need to be devoloped more"
      ]
    },
    {
      "cell_type": "code",
      "metadata": {
        "id": "uJJh-fYXpdGt"
      },
      "source": [
        "category_satisfaction = customers[['MAINCLASSIFICATION','SATISFACTION']]"
      ],
      "execution_count": 40,
      "outputs": []
    },
    {
      "cell_type": "code",
      "metadata": {
        "colab": {
          "base_uri": "https://localhost:8080/",
          "height": 426
        },
        "id": "nERgEeqprDbz",
        "outputId": "c44bb190-0c3f-40b6-b0aa-e9dda9108fea"
      },
      "source": [
        "category_satisfaction= category_satisfaction.pivot_table(index='MAINCLASSIFICATION',values='SATISFACTION',aggfunc='mean')\n",
        "category_satisfaction.sort_values(by='SATISFACTION')"
      ],
      "execution_count": 47,
      "outputs": [
        {
          "output_type": "execute_result",
          "data": {
            "text/html": [
              "<div>\n",
              "<style scoped>\n",
              "    .dataframe tbody tr th:only-of-type {\n",
              "        vertical-align: middle;\n",
              "    }\n",
              "\n",
              "    .dataframe tbody tr th {\n",
              "        vertical-align: top;\n",
              "    }\n",
              "\n",
              "    .dataframe thead th {\n",
              "        text-align: right;\n",
              "    }\n",
              "</style>\n",
              "<table border=\"1\" class=\"dataframe\">\n",
              "  <thead>\n",
              "    <tr style=\"text-align: right;\">\n",
              "      <th></th>\n",
              "      <th>SATISFACTION</th>\n",
              "    </tr>\n",
              "    <tr>\n",
              "      <th>MAINCLASSIFICATION</th>\n",
              "      <th></th>\n",
              "    </tr>\n",
              "  </thead>\n",
              "  <tbody>\n",
              "    <tr>\n",
              "      <th>الكوارث والسيول</th>\n",
              "      <td>4.295008</td>\n",
              "    </tr>\n",
              "    <tr>\n",
              "      <th>الحدائق والمرافق العامة</th>\n",
              "      <td>4.393638</td>\n",
              "    </tr>\n",
              "    <tr>\n",
              "      <th>النظافة</th>\n",
              "      <td>4.398842</td>\n",
              "    </tr>\n",
              "    <tr>\n",
              "      <th>الحيوانات والحشرات</th>\n",
              "      <td>4.437248</td>\n",
              "    </tr>\n",
              "    <tr>\n",
              "      <th>بلاغات وباء كورونا</th>\n",
              "      <td>4.461140</td>\n",
              "    </tr>\n",
              "    <tr>\n",
              "      <th>الطرق والأرصفة</th>\n",
              "      <td>4.493521</td>\n",
              "    </tr>\n",
              "    <tr>\n",
              "      <th>جهات شريكة</th>\n",
              "      <td>4.500000</td>\n",
              "    </tr>\n",
              "    <tr>\n",
              "      <th>الأسواق والمتاجر</th>\n",
              "      <td>4.532399</td>\n",
              "    </tr>\n",
              "    <tr>\n",
              "      <th>المباني والتعديات</th>\n",
              "      <td>4.553812</td>\n",
              "    </tr>\n",
              "    <tr>\n",
              "      <th>الإنارة واللوحات الإرشادية</th>\n",
              "      <td>4.581427</td>\n",
              "    </tr>\n",
              "    <tr>\n",
              "      <th>إكرام الموتى</th>\n",
              "      <td>4.666667</td>\n",
              "    </tr>\n",
              "  </tbody>\n",
              "</table>\n",
              "</div>"
            ],
            "text/plain": [
              "                            SATISFACTION\n",
              "MAINCLASSIFICATION                      \n",
              "الكوارث والسيول                 4.295008\n",
              "الحدائق والمرافق العامة         4.393638\n",
              "النظافة                         4.398842\n",
              "الحيوانات والحشرات              4.437248\n",
              "بلاغات وباء كورونا              4.461140\n",
              "الطرق والأرصفة                  4.493521\n",
              "جهات شريكة                      4.500000\n",
              "الأسواق والمتاجر                4.532399\n",
              "المباني والتعديات               4.553812\n",
              "الإنارة واللوحات الإرشادية      4.581427\n",
              "إكرام الموتى                    4.666667"
            ]
          },
          "metadata": {},
          "execution_count": 47
        }
      ]
    },
    {
      "cell_type": "markdown",
      "metadata": {
        "id": "HA_U-IKlvz_o"
      },
      "source": [
        "As seen in the above table, it seems all categories have low customers satisfaction.\n",
        "\n",
        "Now, I go for more deep and try to find out how each department perform with these complaints."
      ]
    },
    {
      "cell_type": "code",
      "metadata": {
        "colab": {
          "base_uri": "https://localhost:8080/",
          "height": 505
        },
        "id": "U9szhi0-vzoL",
        "outputId": "35a35c4b-f1ae-42b6-c9f5-f529978f0a93"
      },
      "source": [
        "plt.figure(figsize=(20,8))\n",
        "sns.barplot(x=customers['DEPARTMENT'].value_counts().index,y=customers['DEPARTMENT'].value_counts())\n"
      ],
      "execution_count": 48,
      "outputs": [
        {
          "output_type": "execute_result",
          "data": {
            "text/plain": [
              "<matplotlib.axes._subplots.AxesSubplot at 0x7f8cb19ae1d0>"
            ]
          },
          "metadata": {},
          "execution_count": 48
        },
        {
          "output_type": "display_data",
          "data": {
            "image/png": "[encoded data removed]",
            "text/plain": [
              "<Figure size 1440x576 with 1 Axes>"
            ]
          },
          "metadata": {
            "needs_background": "light"
          }
        }
      ]
    },
    {
      "cell_type": "code",
      "metadata": {
        "colab": {
          "base_uri": "https://localhost:8080/"
        },
        "id": "DDl8q1BatX5b",
        "outputId": "32c87d04-ec1a-43b7-e8e5-0151daf87ec2"
      },
      "source": [
        "customers['DEPARTMENT'].value_counts()"
      ],
      "execution_count": 49,
      "outputs": [
        {
          "output_type": "execute_result",
          "data": {
            "text/plain": [
              "وكالة الجودة أمانة المدينة المنورة              4522\n",
              "إدارة الخدمات بلدية العوالي                     2610\n",
              "إدارة الخدمات بلدية البيداء                     2187\n",
              "إدارة الخدمات بلدية قباء                        1716\n",
              "إدارة الخدمات بلدية العقيق                      1511\n",
              "إدارة الخدمات بلدية ينبع                        1295\n",
              "إدارة الخدمات بلدية أحد                         1069\n",
              "إدارة النظافه بلديه قباء                         810\n",
              "إدارة الخدمات بلدية العيون                       712\n",
              "إدارة الخدمات بلدية العاقول                      420\n",
              "إدارة الخدمات بلدية العلا                        393\n",
              "إدارة المراقبه والأسواق بلديه قباء               370\n",
              "إدارة الخدمات بلدية بدر                          264\n",
              "إداره المراقبه والأسواق بلديه العيون             255\n",
              "إدارة الخدمات بلدية ينبع النخل                   239\n",
              "إداره النظافه بلديه العيون                       196\n",
              "إدارة الخدمات بلدية الحناكية                     185\n",
              "إدارة الخدمات بلدية ابيار الماشي                 139\n",
              "إدارة الخدمات بلدية خيبر                         112\n",
              "إدارة الخدمات بلدية وادي الفرع                   110\n",
              "إدارة الخدمات بلدية الصويدره                      90\n",
              "إدارة الخدمات بلدية الحرم                         86\n",
              "إدارة الخدمات بلدية العيص                         85\n",
              "إدارة الخدمات بلدية السويرقية                     71\n",
              "إدارة الخدمات بلدية المهد                         70\n",
              "إدارة الخدمات بلدية المسيجيد والقاحه              69\n",
              "إدارة الخدمات بلدية المندسة                       65\n",
              "إدارة الخدمات بلدية الفريش                        65\n",
              "إدارة الخدمات بلدية المليليح                      46\n",
              "وكالة التشغيل والصيانة امانة المدينة المنورة      43\n",
              "إدارة الخدمات بلدية النخيل                        41\n",
              "إدارة الخدمات بلدية الصلصله                       33\n",
              "إدارة الخدمات بلدية سليله جهينه والمربع           30\n",
              "إدارة المشاريع بلديه قباء                         30\n",
              "إداره المشاريع بلديه العيون                       19\n",
              "إدارة المسالخ امانة المدينة المنورة               16\n",
              "إدارة الخدمات بلدية الحسو                          9\n",
              "إدارة العمليات امانة المدينة المنورة               6\n",
              "إدارة الخدمات بلدية العشاش                         3\n",
              "إدارة الحراسات الأمنية امانة المدينة المنورة       2\n",
              "إدارة الخدمات بلدية ثرب                            2\n",
              "Name: DEPARTMENT, dtype: int64"
            ]
          },
          "metadata": {},
          "execution_count": 49
        }
      ]
    },
    {
      "cell_type": "markdown",
      "metadata": {
        "id": "oWjjFyytxCDo"
      },
      "source": [
        "From the previous figure and list, it seems that 'وكالة الجودة أمانة المدينة المنورة ' has the highest number of complaints and that an indecation of something is going wrong with them."
      ]
    },
    {
      "cell_type": "markdown",
      "metadata": {
        "id": "haZ7LKV0xoDO"
      },
      "source": [
        "Now I make a pivot table of each department to show the customers satisfaction of each complaint category the department has.\n",
        "\n",
        "This will show where each department is facing problems.\n"
      ]
    },
    {
      "cell_type": "code",
      "metadata": {
        "id": "wwzyGh6_w0ob"
      },
      "source": [
        "department_satisfaction = customers[['DEPARTMENT','MAINCLASSIFICATION','SATISFACTION']]"
      ],
      "execution_count": 56,
      "outputs": []
    },
    {
      "cell_type": "code",
      "metadata": {
        "colab": {
          "base_uri": "https://localhost:8080/",
          "height": 455
        },
        "id": "1jmjcAX4yxwb",
        "outputId": "0fc7d2a8-0d6d-4500-f6c7-3112fdbe565f"
      },
      "source": [
        "department_satisfaction= department_satisfaction.pivot_table(index=['DEPARTMENT','MAINCLASSIFICATION'],values='SATISFACTION',aggfunc='mean')\n",
        "department_satisfaction=department_satisfaction.sort_values(by=['DEPARTMENT','SATISFACTION'])\n",
        "department_satisfaction.head(100)\n"
      ],
      "execution_count": 73,
      "outputs": [
        {
          "output_type": "execute_result",
          "data": {
            "text/html": [
              "<div>\n",
              "<style scoped>\n",
              "    .dataframe tbody tr th:only-of-type {\n",
              "        vertical-align: middle;\n",
              "    }\n",
              "\n",
              "    .dataframe tbody tr th {\n",
              "        vertical-align: top;\n",
              "    }\n",
              "\n",
              "    .dataframe thead th {\n",
              "        text-align: right;\n",
              "    }\n",
              "</style>\n",
              "<table border=\"1\" class=\"dataframe\">\n",
              "  <thead>\n",
              "    <tr style=\"text-align: right;\">\n",
              "      <th></th>\n",
              "      <th></th>\n",
              "      <th>SATISFACTION</th>\n",
              "    </tr>\n",
              "    <tr>\n",
              "      <th>DEPARTMENT</th>\n",
              "      <th>MAINCLASSIFICATION</th>\n",
              "      <th></th>\n",
              "    </tr>\n",
              "  </thead>\n",
              "  <tbody>\n",
              "    <tr>\n",
              "      <th>إدارة الحراسات الأمنية امانة المدينة المنورة</th>\n",
              "      <th>جهات شريكة</th>\n",
              "      <td>5.000000</td>\n",
              "    </tr>\n",
              "    <tr>\n",
              "      <th rowspan=\"4\" valign=\"top\">إدارة الخدمات بلدية أحد</th>\n",
              "      <th>الحدائق والمرافق العامة</th>\n",
              "      <td>3.814815</td>\n",
              "    </tr>\n",
              "    <tr>\n",
              "      <th>الحيوانات والحشرات</th>\n",
              "      <td>4.219251</td>\n",
              "    </tr>\n",
              "    <tr>\n",
              "      <th>بلاغات وباء كورونا</th>\n",
              "      <td>4.362069</td>\n",
              "    </tr>\n",
              "    <tr>\n",
              "      <th>النظافة</th>\n",
              "      <td>4.410480</td>\n",
              "    </tr>\n",
              "    <tr>\n",
              "      <th>...</th>\n",
              "      <th>...</th>\n",
              "      <td>...</td>\n",
              "    </tr>\n",
              "    <tr>\n",
              "      <th rowspan=\"5\" valign=\"top\">إدارة الخدمات بلدية العلا</th>\n",
              "      <th>المباني والتعديات</th>\n",
              "      <td>4.277778</td>\n",
              "    </tr>\n",
              "    <tr>\n",
              "      <th>الحيوانات والحشرات</th>\n",
              "      <td>4.385965</td>\n",
              "    </tr>\n",
              "    <tr>\n",
              "      <th>الكوارث والسيول</th>\n",
              "      <td>4.500000</td>\n",
              "    </tr>\n",
              "    <tr>\n",
              "      <th>بلاغات وباء كورونا</th>\n",
              "      <td>4.615385</td>\n",
              "    </tr>\n",
              "    <tr>\n",
              "      <th>الإنارة واللوحات الإرشادية</th>\n",
              "      <td>4.786325</td>\n",
              "    </tr>\n",
              "  </tbody>\n",
              "</table>\n",
              "<p>100 rows × 1 columns</p>\n",
              "</div>"
            ],
            "text/plain": [
              "                                                                         SATISFACTION\n",
              "DEPARTMENT                                   MAINCLASSIFICATION                      \n",
              "إدارة الحراسات الأمنية امانة المدينة المنورة جهات شريكة                      5.000000\n",
              "إدارة الخدمات بلدية أحد                      الحدائق والمرافق العامة         3.814815\n",
              "                                             الحيوانات والحشرات              4.219251\n",
              "                                             بلاغات وباء كورونا              4.362069\n",
              "                                             النظافة                         4.410480\n",
              "...                                                                               ...\n",
              "إدارة الخدمات بلدية العلا                    المباني والتعديات               4.277778\n",
              "                                             الحيوانات والحشرات              4.385965\n",
              "                                             الكوارث والسيول                 4.500000\n",
              "                                             بلاغات وباء كورونا              4.615385\n",
              "                                             الإنارة واللوحات الإرشادية      4.786325\n",
              "\n",
              "[100 rows x 1 columns]"
            ]
          },
          "metadata": {},
          "execution_count": 73
        }
      ]
    },
    {
      "cell_type": "markdown",
      "metadata": {
        "id": "bLIFTmAt2Cc9"
      },
      "source": [
        "The previous table showed presiously the performance of each department and which type of complaint it have problems with and what is the average customers satisfaction\n",
        "\n",
        "Now I should save and export the outcom"
      ]
    },
    {
      "cell_type": "code",
      "metadata": {
        "id": "0ITvsa8IzJID"
      },
      "source": [
        "department_satisfaction.to_excel('Department_Satisfaction.xlsx', index = False, header=True)"
      ],
      "execution_count": 80,
      "outputs": []
    },
    {
      "cell_type": "markdown",
      "metadata": {
        "id": "9K2uaHIL4-dD"
      },
      "source": [
        "**Conclusion**\n",
        "\n",
        "In the conclusion I recommend to focus more in the department 'وكالة الجودة أمانة المدينة المنورة' as it has the highest number of complaints "
      ]
    }
  ]
}